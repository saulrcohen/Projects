{
  "cells": [
    {
      "cell_type": "markdown",
      "metadata": {
        "id": "view-in-github",
        "colab_type": "text"
      },
      "source": [
        "<a href=\"https://colab.research.google.com/github/saulrcohen/Projects/blob/master/HalachaProject/HalachaEmails.ipynb\" target=\"_parent\"><img src=\"https://colab.research.google.com/assets/colab-badge.svg\" alt=\"Open In Colab\"/></a>"
      ]
    },
    {
      "cell_type": "markdown",
      "metadata": {
        "id": "Ub_X4qlIiY_K"
      },
      "source": [
        "### Reading data and removing non-questions (Slowly)"
      ]
    },
    {
      "cell_type": "code",
      "source": [
        "#Import important packages\n",
        "import pandas as pd\n",
        "import numpy as np\n",
        "import nltk\n",
        "import io\n",
        "import re\n",
        "from sklearn.feature_extraction.text import TfidfVectorizer\n",
        "import nltk\n",
        "from nltk.tokenize import word_tokenize\n",
        "from nltk.corpus import stopwords\n",
        "from nltk.stem import WordNetLemmatizer\n",
        "from sklearn.feature_extraction.text import TfidfVectorizer\n",
        "from sklearn.cluster import KMeans\n",
        "lemmatizer = WordNetLemmatizer()\n",
        "nltk.download('punkt')\n",
        "nltk.download('stopwords')\n",
        "nltk.download('wordnet')\n",
        "stop_words = set(stopwords.words('english'))\n",
        "\n"
      ],
      "metadata": {
        "id": "aty4CxLrZfYV"
      },
      "execution_count": null,
      "outputs": []
    },
    {
      "cell_type": "code",
      "execution_count": null,
      "metadata": {
        "id": "9J6HaxiSJS8C"
      },
      "outputs": [],
      "source": [
        "my_file = open(\"listfile.txt\", \"r\")\n",
        "content = my_file.read()\n",
        "content = content.split('\\n')"
      ]
    },
    {
      "cell_type": "code",
      "source": [
        "len(content)\n",
        "str_list = list(filter(None, content))\n",
        "len(str_list)"
      ],
      "metadata": {
        "colab": {
          "base_uri": "https://localhost:8080/"
        },
        "id": "l8yw7cgXVaxD",
        "outputId": "deb1deed-297b-4cf2-a81b-9d8cdbd73e0e"
      },
      "execution_count": null,
      "outputs": [
        {
          "output_type": "execute_result",
          "data": {
            "text/plain": [
              "12086"
            ]
          },
          "metadata": {},
          "execution_count": 6
        }
      ]
    },
    {
      "cell_type": "code",
      "execution_count": null,
      "metadata": {
        "id": "zsQVHF3A9oTf"
      },
      "outputs": [],
      "source": [
        "content = [s for s in content if 'subscription preferences' not in s]\n",
        "content = [s for s in content if 'unsubscribe from' not in s]\n",
        "content = [s for s in content if 'mailchimp' not in s]\n",
        "content = [s for s in content if 'MailChimp' not in s]\n",
        "content = [s for s in content if 'Mailchimp' not in s]\n",
        "content = [s for s in content if 'mailing list' not in s]\n",
        "content = [s for s in content if '========' not in s]\n",
        "content = [s for s in content if 'Hamikubalim 7' not in s]\n",
        "content = [s for s in content if 'Follow me on ' not in s]\n",
        "content = [s for s in content if '@RavJesseHorn' not in s]\n",
        "content = [s for s in content if 'This email was sent to' not in s]\n",
        "content = [s for s in content if 'Designing Your Email' not in s]\n",
        "content = [s for s in content if 'Creating an elegant email is simple' not in s]\n",
        "content = [s for s in content if '-----------' not in s]\n",
        "content = [s for s in content if 'Sign up for weekly Halachic Questions' not in s]\n",
        "content = [s for s in content if 'All rights reserved' not in s]\n",
        "content = [s for s in content if 'Our mailing address is: Torah' not in s]\n",
        "content = [s for s in content if 'All rights reserved' not in s]\n"
      ]
    },
    {
      "cell_type": "code",
      "execution_count": null,
      "metadata": {
        "id": "pgOz-mYEnEiL"
      },
      "outputs": [],
      "source": [
        "content"
      ]
    },
    {
      "cell_type": "markdown",
      "metadata": {
        "id": "j6092MXYnAgw"
      },
      "source": [
        "### Find retractions"
      ]
    },
    {
      "cell_type": "code",
      "execution_count": null,
      "metadata": {
        "colab": {
          "base_uri": "https://localhost:8080/",
          "height": 120
        },
        "id": "OSuomkMUeoHR",
        "outputId": "8fcfbc31-f600-4193-f34d-89cddd9d7c27"
      },
      "outputs": [
        {
          "data": {
            "application/vnd.google.colaboratory.intrinsic+json": {
              "type": "string"
            },
            "text/plain": [
              "'\\n#Keep track of changes\\nfor index in range(len(content)):\\n  #This is because I\\'m bad at computer science sometimes\\n  if index > 0:\\n    #Find any time it\\'s a new Halacha\\n    if content[index-1].startswith(\\'Halacha\\'):\\n      #Means that it doesn\\'t start with a number\\n      if content[index][0].isdigit() is False:\\n        #There\\'s a solid chance it\\'s a Retraction since it\\'s not the first question \\n        #Checked these manually, but still going to have to be checked \\n        if content[index].startswith(\\'Halacha\\') is False:\\n          content[index] = \\'Retraction in -> \\' + content[index-1] + \" \" + content[index]\\n          '"
            ]
          },
          "execution_count": 12,
          "metadata": {
            "tags": []
          },
          "output_type": "execute_result"
        }
      ],
      "source": [
        "#Keep track of changes\n",
        "for index in range(1, len(content)):\n",
        "  #Find any time it's a new Halacha\n",
        "  if content[index-1].startswith('Halacha'):\n",
        "    #Means that it doesn't start with a number\n",
        "    if content[index][0].isdigit() is False:\n",
        "      #There's a solid chance it's a Retraction since it's not the first question\n",
        "      if content[index].startswith('Halacha') is False:\n",
        "        content[index] = 'Retraction in -> ' + content[index-1] + \" \" + content[index]\n"
      ]
    },
    {
      "cell_type": "markdown",
      "metadata": {
        "id": "VcDa2zwLkzQs"
      },
      "source": [
        "###"
      ]
    },
    {
      "cell_type": "markdown",
      "metadata": {
        "id": "gekWz8ymn2QU"
      },
      "source": [
        "## Found the retractions and dealt with them, edit out whitepaces, and put questions and answers together"
      ]
    },
    {
      "cell_type": "code",
      "execution_count": null,
      "metadata": {
        "id": "_l5wYqKEqgre"
      },
      "outputs": [],
      "source": [
        "content =  [x for x in content if not x.startswith(\"Halacha\")]\n",
        "content = [x for x in content if x]\n",
        "content = [x.strip() for x in content]\n",
        "content = [x.replace(':)', '') for x in content]"
      ]
    },
    {
      "cell_type": "code",
      "execution_count": null,
      "metadata": {
        "colab": {
          "base_uri": "https://localhost:8080/",
          "height": 52
        },
        "id": "AV60B784EQgP",
        "outputId": "3320560f-ed0f-457f-92a5-f5b4f79c7afc"
      },
      "outputs": [
        {
          "data": {
            "application/vnd.google.colaboratory.intrinsic+json": {
              "type": "string"
            },
            "text/plain": [
              "'1. Which way should one face at the Kotel when davening, towards the wall or towards the left facing the Makom HaMikdash?'"
            ]
          },
          "execution_count": 15,
          "metadata": {
            "tags": []
          },
          "output_type": "execute_result"
        }
      ],
      "source": [
        "content[0]"
      ]
    },
    {
      "cell_type": "code",
      "execution_count": null,
      "metadata": {
        "id": "CxIcyiEpRrHt"
      },
      "outputs": [],
      "source": [
        "\n",
        "#Concat all questions and answers until I hit another question\n",
        "for question in range(len(content)):\n",
        "  # This string is an answer\n",
        "  if content[question][0].isdigit() == False:\n",
        "    #Concat the answer with the previous question\n",
        "    content[question-1] += ' ' + content[question]\n",
        "    del content[question]\n",
        "    #Check how many lines the answer is\n",
        "    #Concat all of those back to the original question\n",
        "    #Get rid of the answer\n",
        "    #Start at the same answer, and concat to the previous one\n",
        "  if content[question][0].isdigit() == False:\n",
        "    #Check all the subsequent answer strings\n",
        "    content[question - 1] = content[question - 1] + \" \" + content[question + i]\n",
        "    del content[question + i]"
      ]
    },
    {
      "cell_type": "code",
      "execution_count": null,
      "metadata": {
        "colab": {
          "base_uri": "https://localhost:8080/"
        },
        "id": "ocRAzQQMsSSx",
        "outputId": "728eda29-0922-4af2-b1d8-ed35633a3fc5"
      },
      "outputs": [
        {
          "data": {
            "text/plain": [
              "3009"
            ]
          },
          "execution_count": 28,
          "metadata": {
            "tags": []
          },
          "output_type": "execute_result"
        }
      ],
      "source": [
        "content = [x for x in content if x]\n",
        "len(content)"
      ]
    },
    {
      "cell_type": "code",
      "execution_count": null,
      "metadata": {
        "id": "DwRme4hWdIae"
      },
      "outputs": [],
      "source": [
        "'''\n",
        "Here we have to find multi line questions.\n",
        "So we check how it starts and if it's not a number but it's a letter, add it to the question at hand.\n",
        "'''\n",
        "\n",
        "for questionNumber in range(len(content) - 3):\n",
        "  if content[questionNumber][0].isdigit() == False and content[questionNumber][0].isalnum():\n",
        "    content[questionNumber-1] += \" \" + content[questionNumber]\n",
        "    content[questionNumber] = \"\"\n",
        "    content = [x for x in content if x]"
      ]
    },
    {
      "cell_type": "markdown",
      "metadata": {
        "id": "ZnCDisKNyQCW"
      },
      "source": [
        "## Create the NLP model to group the questions\n",
        "\n"
      ]
    },
    {
      "cell_type": "code",
      "execution_count": null,
      "metadata": {
        "colab": {
          "base_uri": "https://localhost:8080/",
          "height": 204
        },
        "id": "1Rq52ViSsmM_",
        "outputId": "0795e087-5ccf-488e-8f4c-25fd046914e0"
      },
      "outputs": [
        {
          "data": {
            "text/html": [
              "<div>\n",
              "<style scoped>\n",
              "    .dataframe tbody tr th:only-of-type {\n",
              "        vertical-align: middle;\n",
              "    }\n",
              "\n",
              "    .dataframe tbody tr th {\n",
              "        vertical-align: top;\n",
              "    }\n",
              "\n",
              "    .dataframe thead th {\n",
              "        text-align: right;\n",
              "    }\n",
              "</style>\n",
              "<table border=\"1\" class=\"dataframe\">\n",
              "  <thead>\n",
              "    <tr style=\"text-align: right;\">\n",
              "      <th></th>\n",
              "      <th>0</th>\n",
              "    </tr>\n",
              "  </thead>\n",
              "  <tbody>\n",
              "    <tr>\n",
              "      <th>0</th>\n",
              "      <td>1. Which way should one face at the Kotel when...</td>\n",
              "    </tr>\n",
              "    <tr>\n",
              "      <th>1</th>\n",
              "      <td>2.  When playing \"Settlers of Katan\" on Shabbo...</td>\n",
              "    </tr>\n",
              "    <tr>\n",
              "      <th>2</th>\n",
              "      <td>3. Should I wear woolen Tzitzis? There is a Ma...</td>\n",
              "    </tr>\n",
              "    <tr>\n",
              "      <th>3</th>\n",
              "      <td>1. Which way should one face at the Kotel when...</td>\n",
              "    </tr>\n",
              "    <tr>\n",
              "      <th>4</th>\n",
              "      <td>2.  When playing \"Settlers of Katan\" on Shabbo...</td>\n",
              "    </tr>\n",
              "  </tbody>\n",
              "</table>\n",
              "</div>"
            ],
            "text/plain": [
              "                                                   0\n",
              "0  1. Which way should one face at the Kotel when...\n",
              "1  2.  When playing \"Settlers of Katan\" on Shabbo...\n",
              "2  3. Should I wear woolen Tzitzis? There is a Ma...\n",
              "3  1. Which way should one face at the Kotel when...\n",
              "4  2.  When playing \"Settlers of Katan\" on Shabbo..."
            ]
          },
          "execution_count": 33,
          "metadata": {
            "tags": []
          },
          "output_type": "execute_result"
        }
      ],
      "source": [
        "df = pd.DataFrame(content)\n",
        "df.head()"
      ]
    },
    {
      "cell_type": "code",
      "execution_count": null,
      "metadata": {
        "id": "6z5hzr8Oy4uP"
      },
      "outputs": [],
      "source": [
        "vals = df[0].unique().astype('U')"
      ]
    },
    {
      "cell_type": "code",
      "execution_count": null,
      "metadata": {
        "id": "4RN-XMXyMJwl"
      },
      "outputs": [],
      "source": [
        "def preprocess_text(text):\n",
        "    tokens = word_tokenize(text.lower())\n",
        "    tokens = [lemmatizer.lemmatize(token) for token in tokens if token.isalpha()]\n",
        "    tokens = [token for token in tokens if token not in stop_words]\n",
        "    return \" \".join(tokens)"
      ]
    },
    {
      "cell_type": "code",
      "source": [
        "# Preprocess questions\n",
        "preprocessed_questions = [preprocess_text(question) for question in questions]\n",
        "\n",
        "# Vectorize the questions\n",
        "vectorizer = TfidfVectorizer()\n",
        "X = vectorizer.fit_transform(preprocessed_questions)\n",
        "\n",
        "# Perform clustering\n",
        "num_clusters = 10  # Adjust the number of clusters as desired\n",
        "kmeans = KMeans(n_clusters=num_clusters, random_state=42)\n",
        "kmeans.fit(X)\n"
      ],
      "metadata": {
        "id": "46VP3luwa_xz"
      },
      "execution_count": null,
      "outputs": []
    },
    {
      "cell_type": "code",
      "source": [
        "categorized_questions = {}\n",
        "for i, question in enumerate(questions):\n",
        "    category = cluster_labels[i]\n",
        "    categorized_questions.setdefault(category, []).append(question)\n",
        "\n",
        "# Print categorized questions\n",
        "for category, questions in categorized_questions.items():\n",
        "    print(\"Category\", category+1)\n",
        "    for question in questions:\n",
        "        print(\"- \" + question)\n",
        "    print()"
      ],
      "metadata": {
        "id": "hBBR0Cg1bC9c"
      },
      "execution_count": null,
      "outputs": []
    }
  ],
  "metadata": {
    "colab": {
      "provenance": [],
      "authorship_tag": "ABX9TyMOi+BtYoYJjE1euiS+VyTF",
      "include_colab_link": true
    },
    "kernelspec": {
      "display_name": "Python 3",
      "name": "python3"
    }
  },
  "nbformat": 4,
  "nbformat_minor": 0
}